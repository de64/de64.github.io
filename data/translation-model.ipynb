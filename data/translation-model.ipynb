{
 "cells": [
  {
   "cell_type": "markdown",
   "metadata": {},
   "source": [
    "# Train human neural networks to translate\n",
    "\n",
    "For any data analysis on translation data from German to English and vice versa,\n",
    "see https://nlp.stanford.edu/projects/nmt/. All the data from the source should\n",
    "be downloaded into `data/translation_model`."
   ]
  },
  {
   "cell_type": "code",
   "execution_count": null,
   "metadata": {},
   "outputs": [],
   "source": [
    "import os\n",
    "from tqdm.auto import tqdm\n",
    "import pandas as pd"
   ]
  },
  {
   "cell_type": "code",
   "execution_count": null,
   "metadata": {},
   "outputs": [],
   "source": [
    "large_files_path = os.getcwd()\n",
    "large_files_path = large_files_path[:large_files_path.rindex('/')] + '/large_files/translation_model'\n",
    "\n",
    "translation_csv = f'{large_files_path}/translation.csv'\n",
    "\n",
    "# use below to produce translation.csv\n",
    "\"\"\"\n",
    "en = open(f'{large_files_path}/train.en', 'rb').read()\n",
    "de = open(f'{large_files_path}/train.de', 'rb').read()\n",
    "\n",
    "en = en.decode('utf-8').split('\\n')\n",
    "de = de.decode('utf-8').split('\\n')\n",
    "\n",
    "data = pd.DataFrame({\n",
    "    'german': de,\n",
    "    'english': en\n",
    "})\n",
    "\n",
    "data.to_csv(translation_csv)\n",
    "\"\"\"\n",
    "\n",
    "data = pd.read_csv(translation_csv)\n",
    "data.drop('Unnamed: 0', axis=1, inplace=True)\n",
    "data.dropna(inplace=True)"
   ]
  },
  {
   "cell_type": "code",
   "execution_count": null,
   "metadata": {},
   "outputs": [],
   "source": [
    "# calculate word frequency\n",
    "from collections import Counter\n",
    "\n",
    "all_words = []\n",
    "wordcount = Counter(\n",
    "    word.lower() for sentence in tqdm(data['german'].iloc[:-2]) for word in sentence.split(' ') \n",
    ")"
   ]
  },
  {
   "cell_type": "code",
   "execution_count": null,
   "metadata": {},
   "outputs": [],
   "source": [
    "# sort the sentences by frequency\n",
    "\n",
    "\n",
    "def frequency(sentence):\n",
    "    if not isinstance(sentence, str):\n",
    "        return 0\n",
    "    if len(sentence) < 30:\n",
    "        return 0\n",
    "    return min(wordcount[word.lower()] for word in sentence.split(' '))\n",
    "\n",
    "sentence = data['german'].iloc[100000]\n",
    "print(frequency(sentence), sentence)"
   ]
  },
  {
   "cell_type": "code",
   "execution_count": null,
   "metadata": {},
   "outputs": [],
   "source": [
    "F = data['german'].apply(frequency)"
   ]
  },
  {
   "cell_type": "code",
   "execution_count": null,
   "metadata": {},
   "outputs": [],
   "source": [
    "data.columns"
   ]
  },
  {
   "cell_type": "code",
   "execution_count": null,
   "metadata": {},
   "outputs": [],
   "source": [
    "data['frequency'] = F"
   ]
  },
  {
   "cell_type": "code",
   "execution_count": null,
   "metadata": {},
   "outputs": [],
   "source": [
    "data.sort_values('frequency', inplace=True, ascending=False)"
   ]
  },
  {
   "cell_type": "code",
   "execution_count": null,
   "metadata": {},
   "outputs": [],
   "source": [
    "row = data.iloc[4000004]\n",
    "print(row['german'])\n",
    "print(row['english'])\n",
    "print(row['frequency'])"
   ]
  },
  {
   "cell_type": "code",
   "execution_count": null,
   "metadata": {},
   "outputs": [],
   "source": [
    "data_valid = data[data['frequency'] > 1000]"
   ]
  },
  {
   "cell_type": "code",
   "execution_count": null,
   "metadata": {},
   "outputs": [],
   "source": [
    "data_valid.shape"
   ]
  },
  {
   "cell_type": "code",
   "execution_count": null,
   "metadata": {},
   "outputs": [],
   "source": [
    "data.shape"
   ]
  },
  {
   "cell_type": "code",
   "execution_count": null,
   "metadata": {},
   "outputs": [],
   "source": [
    "import json\n",
    "result = []\n",
    "for i, row in data_valid.sample(40000).iterrows():\n",
    "    result.append({\n",
    "        'english': row['english'],\n",
    "        'german': row['german']\n",
    "    })\n",
    "\n",
    "with open('sentences_en_de.json', 'w') as f:\n",
    "    json.dump(result, f)"
   ]
  },
  {
   "cell_type": "markdown",
   "metadata": {},
   "source": [
    "## Testing translation capabilities though notebook\n",
    "\n",
    "Simply sample some sentences below, and try to translate them."
   ]
  },
  {
   "cell_type": "code",
   "execution_count": null,
   "metadata": {},
   "outputs": [],
   "source": [
    "row = data_valid.sample()\n",
    "row.iloc[0]['english']"
   ]
  },
  {
   "cell_type": "code",
   "execution_count": null,
   "metadata": {},
   "outputs": [],
   "source": [
    "row.iloc[0]['german']"
   ]
  }
 ],
 "metadata": {
  "kernelspec": {
   "display_name": "Python 3.6.9 64-bit",
   "language": "python",
   "name": "python36964bit52f76255134a477d82731da427d51ebc"
  },
  "language_info": {
   "codemirror_mode": {
    "name": "ipython",
    "version": 3
   },
   "file_extension": ".py",
   "mimetype": "text/x-python",
   "name": "python",
   "nbconvert_exporter": "python",
   "pygments_lexer": "ipython3",
   "version": "3.6.9"
  }
 },
 "nbformat": 4,
 "nbformat_minor": 2
}
